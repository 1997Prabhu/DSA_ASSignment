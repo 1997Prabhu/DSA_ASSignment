{
 "cells": [
  {
   "cell_type": "code",
   "execution_count": 33,
   "id": "b0171fd3",
   "metadata": {},
   "outputs": [
    {
     "name": "stdout",
     "output_type": "stream",
     "text": [
      "{ 1 , 3 }\n",
      "{ 1 , 3 }\n",
      "{ 3 , 1 }\n",
      "{ 4 , 0 }\n",
      "{ 1 , 3 }\n",
      "{ 2 , 2 }\n"
     ]
    }
   ],
   "source": [
    " # 1)Write a program to find all pairs of an integer array whose sum is equal to a given number?\n",
    "\n",
    "def arr(p,l):\n",
    "    y = len(p)\n",
    "    for i in range(y):\n",
    "        for j in range(i+1,y):\n",
    "            if (p[i]+p[j]) == l:\n",
    "                print('{',p[i],',',p[j],'}')\n",
    "sum = 4\n",
    "k = [1,5,3,7,8,4,1,3,2,2,5,0]\n",
    "arr(k,l)"
   ]
  },
  {
   "cell_type": "code",
   "execution_count": 32,
   "id": "fec0f08f",
   "metadata": {},
   "outputs": [
    {
     "name": "stdout",
     "output_type": "stream",
     "text": [
      "BOXER PRABHU\n"
     ]
    }
   ],
   "source": [
    "# 2) Write a program to reverse an array in place? In place means you cannot create a new array.\n",
    "\n",
    "\n",
    "def reverse_arr(arr):\n",
    "    print(arr[::-1])\n",
    "\n",
    "x = 'UHBARP REXOB'\n",
    "reverse_arr(x)"
   ]
  },
  {
   "cell_type": "code",
   "execution_count": 38,
   "id": "ad8bd812",
   "metadata": {},
   "outputs": [
    {
     "name": "stdout",
     "output_type": "stream",
     "text": [
      "Given Strings are rotations of each other.\n"
     ]
    }
   ],
   "source": [
    "#Q3) Write a program to check if two strings are a rotation of each other?\n",
    "\n",
    "def checkRotation(x1, x2): \n",
    "    temp = ''  \n",
    "    if len(x1) != len(x2): \n",
    "        return False \n",
    "    temp = x1 + x2 \n",
    "\n",
    "    if x2 in temp: \n",
    "        return True \n",
    "    else: \n",
    "        return False\n",
    " \n",
    "string1 = \"BOXER PRABHU\"\n",
    "string2 = \"UHBARP REXOB\"\n",
    "  \n",
    "if checkRotation(string1, string2): \n",
    "    print(\"Given Strings are rotations of each other.\")\n",
    "else: \n",
    "    print(\"Given Strings are not rotations of each other.\")\n",
    "\n"
   ]
  },
  {
   "cell_type": "code",
   "execution_count": 77,
   "id": "4217e16b",
   "metadata": {},
   "outputs": [
    {
     "name": "stdout",
     "output_type": "stream",
     "text": [
      "Enter str: prrabhbuu\n",
      "First non-repeating character is p\n"
     ]
    }
   ],
   "source": [
    "# Q4) Write a program to print the first non-repeated character from a string?\n",
    "\n",
    "def non_repeat_chr(s):\n",
    "    fnc = \"\"\n",
    "    for i in s:\n",
    "        if s.count(i) == 1:\n",
    "            print(\"First non-repeating character is\", i)\n",
    "            break\n",
    "        else:\n",
    "            print(\"Either all characters are repeating or string is empty\")\n",
    "            break\n",
    "        \n",
    "\n",
    "z = input(\"Enter str: \")\n",
    "non_repeat_chr(z)"
   ]
  },
  {
   "cell_type": "code",
   "execution_count": 48,
   "id": "c6be83de",
   "metadata": {},
   "outputs": [
    {
     "name": "stdout",
     "output_type": "stream",
     "text": [
      "Move disk 1 from rod x to rod z\n",
      "Move disk 2 from rod x to rod y\n",
      "Move disk 1 from rod z to rod y\n",
      "Move disk 3 from rod x to rod z\n",
      "Move disk 1 from rod y to rod x\n",
      "Move disk 2 from rod y to rod z\n",
      "Move disk 1 from rod x to rod z\n",
      "Move disk 4 from rod x to rod y\n",
      "Move disk 1 from rod z to rod y\n",
      "Move disk 2 from rod z to rod x\n",
      "Move disk 1 from rod y to rod x\n",
      "Move disk 3 from rod z to rod y\n",
      "Move disk 1 from rod x to rod z\n",
      "Move disk 2 from rod x to rod y\n",
      "Move disk 1 from rod z to rod y\n"
     ]
    }
   ],
   "source": [
    "# Q5) Read about the Tower of Hanoi algorithm. Write a program to implement it.\n",
    "\n",
    "def Tower_Of_Hanoi(n, from_rod, to_rod, aux_rod):\n",
    "    if n == 0:\n",
    "        return\n",
    "    TowerOfHanoi(n-1, from_rod, aux_rod, to_rod)\n",
    "    print(\"Move disk\", n, \"from rod\", from_rod, \"to rod\", to_rod)\n",
    "    TowerOfHanoi(n-1, aux_rod, to_rod, from_rod)\n",
    "N = 4\n",
    "Tower_Of_Hanoi(N, 'x', 'y', 'z')"
   ]
  },
  {
   "cell_type": "code",
   "execution_count": 51,
   "id": "75b75674",
   "metadata": {},
   "outputs": [
    {
     "name": "stdout",
     "output_type": "stream",
     "text": [
      "((X*Y)+Z)\n"
     ]
    }
   ],
   "source": [
    "# Q6) Read about infix, prefix, and postfix expressions. Write a program to convert postfix to prefix expression.\n",
    "\n",
    "def isOperand(x):\n",
    "    return ((x >= 'a' and x <= 'z') or\n",
    "            (x >= 'A' and x <= 'Z'))\n",
    "\n",
    "def getInfix(exp) :\n",
    " \n",
    "    s = []\n",
    " \n",
    "    for i in exp:    \n",
    "         \n",
    "        if (isOperand(i)) :        \n",
    "            s.insert(0, i)\n",
    "             \n",
    "        else:\n",
    "         \n",
    "            op1 = s[0]\n",
    "            s.pop(0)\n",
    "            op2 = s[0]\n",
    "            s.pop(0)\n",
    "            s.insert(0, \"(\" + op2 + i + op1 + \")\")\n",
    "             \n",
    "    return s[0]\n",
    " \n",
    "# Driver Code\n",
    "if __name__ == '__main__':\n",
    " \n",
    "    exp = \"XY*Z+\"\n",
    "    print(getInfix(exp.strip()))"
   ]
  },
  {
   "cell_type": "code",
   "execution_count": 55,
   "id": "a229df69",
   "metadata": {},
   "outputs": [
    {
     "name": "stdout",
     "output_type": "stream",
     "text": [
      "((X*Y)+Z)\n"
     ]
    }
   ],
   "source": [
    "# Q7) Write a program to convert prefix expression to infix expression.\n",
    "\n",
    "def prefix_To_Infix(prefix):\n",
    "    stack = []\n",
    "    i = len(prefix) - 1\n",
    "    while i >= 0:\n",
    "        if not isOperator(prefix[i]):\n",
    "            stack.append(prefix[i])\n",
    "            i -= 1\n",
    "        else:\n",
    "            str = \"(\" + stack.pop() + prefix[i] + stack.pop() + \")\"\n",
    "            stack.append(str)\n",
    "            i -= 1\n",
    "     \n",
    "    return stack.pop()\n",
    " \n",
    "def isOperator(c):\n",
    "    if c == \"*\" or c == \"+\" or c == \"-\" or c == \"/\" or c == \"^\" or c == \"(\" or c == \")\":\n",
    "        return True\n",
    "    else:\n",
    "        return False\n",
    "    \n",
    "if __name__==\"__main__\":\n",
    "    str = \"+*XYZ\"\n",
    "    print(prefix_To_Infix(str))"
   ]
  },
  {
   "cell_type": "code",
   "execution_count": 61,
   "id": "7f8d3499",
   "metadata": {},
   "outputs": [
    {
     "name": "stdout",
     "output_type": "stream",
     "text": [
      "Balanced\n"
     ]
    }
   ],
   "source": [
    "# Q8) Write a program to check if all the brackets are closed in a given code snippet.\n",
    "\n",
    "\n",
    "def BracketBalanced(expr):\n",
    "    stack = []\n",
    "    for char in expr:\n",
    "        if char in [\"(\", \"{\", \"[\"]:\n",
    " \n",
    "            stack.append(char)\n",
    "        else:\n",
    " \n",
    "            if not stack:\n",
    "                return False\n",
    "            current_char = stack.pop()\n",
    "            if current_char == '(':\n",
    "                if char != \")\":\n",
    "                    return False\n",
    "            if current_char == '{':\n",
    "                if char != \"}\":\n",
    "                    return False\n",
    "            if current_char == '[':\n",
    "                if char != \"]\":\n",
    "                    return False\n",
    "\n",
    "    if stack:\n",
    "        return False\n",
    "    return True\n",
    "\n",
    "if __name__ == \"__main__\":\n",
    "    expr = \"{()}[]()\"\n",
    " \n",
    "    if BracketBalanced(expr):\n",
    "        print(\"Balanced\")\n",
    "    else:\n",
    "        print(\"Not Balanced\")\n"
   ]
  },
  {
   "cell_type": "code",
   "execution_count": 72,
   "id": "6519427e",
   "metadata": {},
   "outputs": [
    {
     "name": "stdout",
     "output_type": "stream",
     "text": [
      "Original Stack\n",
      "1\n",
      "2\n",
      "3\n",
      "4\n",
      "5\n",
      "\n",
      "Stack after Reversing \n",
      "5\n",
      "4\n",
      "3\n",
      "2\n",
      "1\n"
     ]
    }
   ],
   "source": [
    "# Q9) Write a program to reverse a stack.\n",
    "\n",
    "class Stack:\n",
    " \n",
    "    \n",
    "    def __init__(self):\n",
    "        self.Elements = []\n",
    "         \n",
    "    def push(self, value):\n",
    "        self.Elements.append(value)\n",
    "       \n",
    "    def pop(self):\n",
    "        return self.Elements.pop()\n",
    "     \n",
    "    def empty(self):\n",
    "        return self.Elements == []\n",
    "     \n",
    "    def show(self):\n",
    "        for value in reversed(self.Elements):\n",
    "            print(value)\n",
    "def BottomInsert(s, value):\n",
    "    if s.empty():\n",
    "        s.push(value)\n",
    "    else:\n",
    "        popped = s.pop()\n",
    "        BottomInsert(s, value)\n",
    "        s.push(popped)\n",
    "def Reverse(s):\n",
    "    if s.empty():\n",
    "        pass\n",
    "    else:\n",
    "        popped = s.pop()\n",
    "        Reverse(s)\n",
    "        BottomInsert(s, popped)\n",
    " \n",
    " \n",
    "# create object of stack class\n",
    "stk = Stack()\n",
    " \n",
    "stk.push(5)\n",
    "stk.push(4)\n",
    "stk.push(3)\n",
    "stk.push(2)\n",
    "stk.push(1)\n",
    " \n",
    "print(\"Original Stack\")\n",
    "stk.show()\n",
    " \n",
    "print(\"\\nStack after Reversing \")\n",
    "Reverse(stk)\n",
    "stk.show()"
   ]
  },
  {
   "cell_type": "code",
   "execution_count": 75,
   "id": "ce5aab77",
   "metadata": {},
   "outputs": [
    {
     "name": "stdout",
     "output_type": "stream",
     "text": [
      "-10\n"
     ]
    }
   ],
   "source": [
    "\n",
    "# Q10) Write a program to find the smallest number using a stack.\n",
    "\n",
    "class MinStack(object):\n",
    "   num=float('inf')\n",
    "   def __init__(self):\n",
    "      self.num=float('inf')\n",
    "      self.stack = []\n",
    "   def push(self, x):\n",
    "      if x<=self.num:\n",
    "         self.stack.append(self.num)\n",
    "         self.num = x\n",
    "      self.stack.append(x)\n",
    "   def pop(self):\n",
    "      t = self.stack[-1]\n",
    "      self.stack.pop()\n",
    "      if self.num == t:\n",
    "         self.num = self.stack[-1]\n",
    "         self.stack.pop()\n",
    "   def top(self):\n",
    "      return self.stack[-1]\n",
    "   def getMin(self):\n",
    "      return self.num\n",
    "m = MinStack()\n",
    "m.push(4)\n",
    "m.push(6)\n",
    "m.push(9)\n",
    "m.push(-10)\n",
    "m.push(-6)\n",
    "# print(m.getMin())\n",
    "# m.pop()\n",
    "# print(m.top())\n",
    "print(m.getMin())"
   ]
  },
  {
   "cell_type": "code",
   "execution_count": null,
   "id": "b2898876",
   "metadata": {},
   "outputs": [],
   "source": []
  }
 ],
 "metadata": {
  "kernelspec": {
   "display_name": "Python 3 (ipykernel)",
   "language": "python",
   "name": "python3"
  },
  "language_info": {
   "codemirror_mode": {
    "name": "ipython",
    "version": 3
   },
   "file_extension": ".py",
   "mimetype": "text/x-python",
   "name": "python",
   "nbconvert_exporter": "python",
   "pygments_lexer": "ipython3",
   "version": "3.8.0"
  }
 },
 "nbformat": 4,
 "nbformat_minor": 5
}
